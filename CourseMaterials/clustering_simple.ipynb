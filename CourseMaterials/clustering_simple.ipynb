{
 "cells": [
  {
   "cell_type": "markdown",
   "id": "19214828-776a-4c6f-86a5-0fa805dcfc92",
   "metadata": {},
   "source": [
    "# Clustering Example #"
   ]
  },
  {
   "cell_type": "markdown",
   "id": "c355f783-b313-4bda-883c-60731f841875",
   "metadata": {},
   "source": [
    "Clustering is a very common problem in data science. It has a common approach to unlabeled data, and is a good place to start to learn machine learning.  "
   ]
  },
  {
   "cell_type": "code",
<<<<<<< HEAD
   "execution_count": 150,
=======
   "execution_count": 1,
>>>>>>> 80ce08593eb1a061375e67be47d386af5fc6a5b6
   "id": "7ca6d270-f2a2-4337-8ccf-a10964114c72",
   "metadata": {
    "id": "7ca6d270-f2a2-4337-8ccf-a10964114c72"
   },
   "outputs": [],
   "source": [
    "import numpy as np\n",
    "import matplotlib.pyplot as plt"
   ]
  },
  {
   "cell_type": "markdown",
   "id": "91f157d5-fbc2-4e42-a2d8-6ecc64a5f245",
   "metadata": {
    "id": "91f157d5-fbc2-4e42-a2d8-6ecc64a5f245"
   },
   "source": [
    "This exercise only requires `numpy` and `matplotlib`.\n",
    "\n",
    "In this case the three elements of the machine learning model are\n",
    "- **E**xperience: \n",
    "  - The input data. A collection of data points in 2-d space \n",
    "- **T**ask:\n",
    "  - Identify the way that the data points are clustered. Separate the data groups into `nc` clusters.\n",
    "- **P**erformance:\n",
    "  - The Cost function. Minimize the total distances between the data points and the centroid that they are associated with."
   ]
  },
  {
   "cell_type": "markdown",
   "id": "1e409bb6-d1e3-4786-88e4-d7ec28df5d81",
   "metadata": {
    "id": "1e409bb6-d1e3-4786-88e4-d7ec28df5d81"
   },
   "source": [
<<<<<<< HEAD
    "We choose `nc` which is the number of centroids. We then randomly generate data to be in three areas of the x-y space. They are assigned different distribution sizes through `amp`. They are then separated in space by adding `offset` values in x and y. The last line (concatenating the data with zeros) is to create a column where we can assign a centroid/color."
=======
    "Preparation\n",
    "* We choose `nc`, the number of centroids we will have the model split the data \n",
    "around.\n",
    "* We then randomly generate data to be in three areas of the x-y space. They are assigned different distribution sizes through `amp`.\n",
    "* The last line (concatenating the data with zeros) creates a column where we can assign a centroid/color."
>>>>>>> 80ce08593eb1a061375e67be47d386af5fc6a5b6
   ]
  },
  {
   "cell_type": "code",
<<<<<<< HEAD
   "execution_count": 151,
=======
   "execution_count": 2,
>>>>>>> 80ce08593eb1a061375e67be47d386af5fc6a5b6
   "id": "84e7725e-769c-41da-8502-a59476b830e0",
   "metadata": {
    "id": "84e7725e-769c-41da-8502-a59476b830e0"
   },
   "outputs": [],
   "source": [
    "nc = 3  \n",
    "amp = np.array([1,2,3])\n",
    "offset = np.array([[6,3],[1,1],[3,4]])\n",
    "original_centroids = offset+.5*amp.reshape(-1,1)\n",
    "dat1 = amp[0]*np.random.rand(25,2)\n",
    "dat1 += offset[0, ::-1]\n",
    "dat2 = amp[1]*np.random.rand(25,2)\n",
    "dat2 += offset[1, ::-1]\n",
    "dat3 = amp[2]*np.random.rand(25,2)\n",
    "dat3 += offset[2, ::-1]\n",
    "dat = np.concatenate((dat1,dat2,dat3),axis=0)\n",
    "dat = np.concatenate((dat,np.zeros(shape=(dat.shape[0],1))),axis=1)"
   ]
  },
  {
   "cell_type": "markdown",
   "id": "52ce2783-e8d9-40e0-b2ab-938fa68968fb",
   "metadata": {
    "id": "52ce2783-e8d9-40e0-b2ab-938fa68968fb"
   },
   "source": [
<<<<<<< HEAD
    "The distribution has three centroids, equal to `offset` + .5 `amp`. However, as k-means is an unsupervised algorithm, we often do not know what the original centroids are.  The purpose of k-means is to find them.  \n",
    "\n",
    "To begin the k-means analysis, we choose three initial centroid locations `cent`. They are fixed to have a starting \"hypothesis\" near the center of the distribution. You can change which line is commented to generate random initial centroid locations."
=======
    "Next, we choose three initial centroid locations `cent`. They are fixed to have a starting \"hypothesis\" near the center of the distribution. You could change which line is commented to generate random initial centroid locations instead."
>>>>>>> 80ce08593eb1a061375e67be47d386af5fc6a5b6
   ]
  },
  {
   "cell_type": "code",
   "execution_count": 152,
   "id": "hOMiAidBLfoW",
   "metadata": {
    "id": "hOMiAidBLfoW"
   },
   "outputs": [],
   "source": [
    "#cent = 5*np.random.rand(nc,2) + 2\n",
    "cent = np.array([[4,4],[4,4.5],[3.9,4.4]])"
   ]
  },
  {
   "cell_type": "markdown",
   "id": "25d88f25",
   "metadata": {},
   "source": [
    "### Exploration"
   ]
  },
  {
   "cell_type": "markdown",
   "id": "bkUMtQEtLfxd",
   "metadata": {
    "id": "bkUMtQEtLfxd"
   },
   "source": [
<<<<<<< HEAD
    "Let's plot the data and current centroids. You'll see the three distinct groupings and can probably tell where the three centroids will end up. Through the k-means iterations, the samples will be assigned to the closest centroid and the color will show that."
=======
    "Let's plot the data and current centroids. \n",
    "\n",
    "You'll see the three distinct groupings and can probably tell where the three centroids will end up. Through the K-means iterations, the samples will be assigned to the closest centroid and the color will show that."
>>>>>>> 80ce08593eb1a061375e67be47d386af5fc6a5b6
   ]
  },
  {
   "cell_type": "code",
   "execution_count": 153,
   "id": "BZRXvArDLqYh",
   "metadata": {
    "colab": {
     "base_uri": "https://localhost:8080/",
     "height": 282
    },
    "id": "BZRXvArDLqYh",
    "outputId": "e7ac01fc-4e7e-47a6-f17a-eb1b063b2b0b"
   },
   "outputs": [
    {
     "data": {
      "text/plain": [
<<<<<<< HEAD
       "<matplotlib.collections.PathCollection at 0x7fa48867d130>"
=======
       "<matplotlib.collections.PathCollection at 0x233b60653d0>"
>>>>>>> 80ce08593eb1a061375e67be47d386af5fc6a5b6
      ]
     },
     "execution_count": 153,
     "metadata": {},
     "output_type": "execute_result"
    },
    {
     "data": {
<<<<<<< HEAD
      "image/png": "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",
=======
      "image/png": "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",
>>>>>>> 80ce08593eb1a061375e67be47d386af5fc6a5b6
      "text/plain": [
       "<Figure size 640x480 with 1 Axes>"
      ]
     },
     "metadata": {},
     "output_type": "display_data"
    }
   ],
   "source": [
    "fig,ax=plt.subplots()\n",
    "plt.scatter(dat[:,0],dat[:,1],color='black')\n",
    "plt.scatter(cent[0,0],cent[0,1],color='blue',s=400)\n",
    "plt.scatter(cent[1,0],cent[1,1],color='red',s=400)\n",
    "plt.scatter(cent[2,0],cent[2,1],color='green',s=400)"
   ]
  },
  {
   "cell_type": "markdown",
   "id": "EsTFxlg4LqgE",
   "metadata": {
    "id": "EsTFxlg4LqgE"
   },
   "source": [
    "A major part of data science is **data exploration - get to know your data first!!** If you hadn't created this\n",
    "dataset yourself, you wouldn't know that there appear to be three clusters.\n",
    "\n",
    "K-means is a method that looks for a way to organize a pre-defined number of clusters.  That means the model is given the number of clusters\n",
    "``nc`` at the start.  "
   ]
  },
  {
   "cell_type": "markdown",
   "id": "4bc17d32",
   "metadata": {},
   "source": [
    "### Training"
   ]
  },
  {
   "cell_type": "markdown",
   "id": "4de12c41",
   "metadata": {},
   "source": [
    "Next is the heart of the model. This is the definition of the K-means function which will iterate until it converges on a classification of all samples."
   ]
  },
  {
   "cell_type": "code",
   "execution_count": 154,
   "id": "48ef84bd-e786-4850-a6c1-77b779728b4b",
   "metadata": {
    "id": "48ef84bd-e786-4850-a6c1-77b779728b4b"
   },
   "outputs": [],
   "source": [
    "def k_means(dat,cent,nc):\n",
    "    # any sample with the last column of 0, 1, or 2 is associated with the 1st, 2nd, or 3rd centroid, respectively\n",
    "    c1 = dat[dat[:,2]==0,:2]\n",
    "    c2 = dat[dat[:,2]==1,:2]\n",
    "    c3 = dat[dat[:,2]==2,:2]\n",
    "\n",
    "    # initialize the condition for the while loop and start the iteration counter\n",
    "    k = 2\n",
    "    counter = 0\n",
    "    while k > 0:\n",
    "        orig = dat[:,2] # this determines the initial \"classification\" of each sample\n",
    "        \n",
    "        # the next 5 lines compute the distance of each sample to all centroids then finds the closest centroid for each sample\n",
    "        for i in range(dat.shape[0]):\n",
    "            dist = np.zeros(nc)\n",
    "            for j in range(nc):\n",
    "                dist[j] = np.sqrt(np.sum(np.power(dat[i,:2]-cent[j,:],2)))\n",
    "            dat[i,2] = np.argmin(dist)\n",
    "        \n",
    "        # next we are assigning each sample a label according to its closest centroid\n",
    "        c1 = dat[dat[:,2]==0,:2]\n",
    "        c2 = dat[dat[:,2]==1,:2]\n",
    "        c3 = dat[dat[:,2]==2,:2]\n",
    "        \n",
    "        # move the centroids closer to the samples assigned to it\n",
    "        if c1.shape[0] != 0:\n",
    "            cent[0,0] -= np.sum(cent[0,0]-c1[:,0])/c1.shape[0]\n",
    "            cent[0,1] -= np.sum(cent[0,1]-c1[:,1])/c1.shape[0]\n",
    "        if c2.shape[0] != 0:\n",
    "            cent[1,0] -= np.sum(cent[1,0]-c2[:,0])/c2.shape[0]\n",
    "            cent[1,1] -= np.sum(cent[1,1]-c2[:,1])/c2.shape[0]\n",
    "        if c3.shape[0] != 0:\n",
    "            cent[2,0] -= np.sum(cent[2,0]-c3[:,0])/c3.shape[0]\n",
    "            cent[2,1] -= np.sum(cent[2,1]-c3[:,1])/c3.shape[0]\n",
    "\n",
    "        # recompute distances with updated centroid locations\n",
    "        new = np.zeros(len(orig))\n",
    "        for i in range(dat.shape[0]):\n",
    "            dist = np.zeros(nc)\n",
    "            for j in range(nc):\n",
    "                dist[j] = np.sqrt(np.sum(np.power(dat[i,:2]-cent[j,:],2)))\n",
    "            new[i] = np.argmin(dist)\n",
    "            \n",
    "        # find out how many samples changed their assignment\n",
    "        k = np.sum(np.abs(orig-new))\n",
    "    return c1,c2,c3,cent"
   ]
  },
  {
   "cell_type": "markdown",
   "id": "3a104fa6-3844-4f11-a5b3-2fd19bb0e7f6",
   "metadata": {
    "id": "3a104fa6-3844-4f11-a5b3-2fd19bb0e7f6"
   },
   "source": [
    "Run the `k_means` function."
   ]
  },
  {
   "cell_type": "code",
   "execution_count": 155,
   "id": "3cd556ca-cd49-48fd-a98e-482423f19ee9",
   "metadata": {
    "id": "3cd556ca-cd49-48fd-a98e-482423f19ee9"
   },
   "outputs": [],
   "source": [
    "c1,c2,c3,cent = k_means(dat,cent,nc)"
   ]
  },
  {
   "cell_type": "markdown",
   "id": "d0407444-a374-4fd0-a2fb-45269d945881",
   "metadata": {
    "id": "d0407444-a374-4fd0-a2fb-45269d945881"
   },
   "source": [
    "Plot final results.  The distributions and model centroids are given different colors.  The original centroids used to "
   ]
  },
  {
   "cell_type": "code",
   "execution_count": 156,
   "id": "ab5852c3-7504-48f9-9658-f6dcd0c1446f",
   "metadata": {
    "colab": {
     "base_uri": "https://localhost:8080/",
     "height": 282
    },
    "id": "ab5852c3-7504-48f9-9658-f6dcd0c1446f",
    "outputId": "7e6c6e10-c93c-4ec6-ef34-95b38c940406"
   },
   "outputs": [
    {
     "data": {
      "text/plain": [
<<<<<<< HEAD
       "<matplotlib.collections.PathCollection at 0x7fa4b8c04670>"
=======
       "<matplotlib.collections.PathCollection at 0x233b612f790>"
>>>>>>> 80ce08593eb1a061375e67be47d386af5fc6a5b6
      ]
     },
     "execution_count": 156,
     "metadata": {},
     "output_type": "execute_result"
    },
    {
     "data": {
<<<<<<< HEAD
      "image/png": "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",
=======
      "image/png": "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",
>>>>>>> 80ce08593eb1a061375e67be47d386af5fc6a5b6
      "text/plain": [
       "<Figure size 640x480 with 1 Axes>"
      ]
     },
     "metadata": {},
     "output_type": "display_data"
    }
   ],
   "source": [
    "fig,ax=plt.subplots()\n",
    "plt.scatter(c1[:,0],c1[:,1],color='blue')\n",
    "plt.scatter(c2[:,0],c2[:,1],color='red')\n",
    "plt.scatter(c3[:,0],c3[:,1],color='green')\n",
    "plt.scatter(cent[0,0],cent[0,1],color='blue',s=400)\n",
    "plt.scatter(cent[1,0],cent[1,1],color='red',s=400)\n",
    "plt.scatter(cent[2,0],cent[2,1],color='green',s=400)\n",
<<<<<<< HEAD
    "plt.scatter(original_centroids[:,1],original_centroids[:,0],color='black',s=200)"
=======
    "initial_cent=np.array([[2,2],[8.5,4.5],[3.5,6.5]])\n",
    "plt.scatter(initial_cent[:,0],initial_cent[:,1],color='black',s=200)"
   ]
  },
  {
   "cell_type": "markdown",
   "id": "76de476a-b8e3-4b6c-8b44-79ca62f1222f",
   "metadata": {},
   "source": [
    "Let us compare the initial with the final results: "
   ]
  },
  {
   "cell_type": "code",
   "execution_count": 8,
   "id": "54e202c2-b68d-44cb-89a7-b61a421f6b7c",
   "metadata": {},
   "outputs": [
    {
     "name": "stdout",
     "output_type": "stream",
     "text": [
      "initial centroid #1 : [2. 2.] model centroid #1: [1.95638997 2.14263141]\n",
      "initial centroid #2 : [8.5 4.5] model centroid #2: [8.55405775 4.40782359]\n",
      "initial centroid #3 : [3.5 6.5] model centroid #3: [3.53026631 6.48526243]\n"
     ]
    }
   ],
   "source": [
    "print('initial centroid #1 :',initial_cent[0,:],'model centroid #1:',cent[0,:])\n",
    "print('initial centroid #2 :',initial_cent[1,:],'model centroid #2:',cent[1,:])\n",
    "print('initial centroid #3 :',initial_cent[2,:],'model centroid #3:',cent[2,:])"
>>>>>>> 80ce08593eb1a061375e67be47d386af5fc6a5b6
   ]
  },
  {
   "cell_type": "markdown",
   "id": "92b99d68-d9de-4017-aa8d-0e75ae500f6c",
   "metadata": {},
   "source": [
    "# Exploration Exercises"
   ]
  },
  {
   "cell_type": "markdown",
   "id": "8080a347-1fa3-46ba-8cd3-7eb6dfc28f52",
   "metadata": {},
   "source": [
<<<<<<< HEAD
    "1) The model centroids are close to the initial values. Change the number of data points in the generated distribution to see how this effects the model.\n",
    "2) The distributions in the example are well separated in space. Modify the distribution `amp` and `offset` so that they overlap and observe the model's performance.\n",
    "3) The model was tasked with finding a number of clusters that correspond to the generated distribution. However, it is rare when you know exactly how many clusters to use. What if the number of clusters given was larger or smaller? Explore the performance by changing `nc` to be different from the number of clusters in the generated distribution. How would you determine the optimal number of clusters? \n",
    "4) What is the cost function or performance measure for this model? What is another possible cost function that could be implemented?  How would the model's performance change?  \n",
    "5) This example involves a two-dimensional distribution. Modify the example to explore a three-dimensional distribution. "
=======
    "1. The model centroids are close to the initial values. Change the number of data points in the generated distribution to see how this effects the model.\n",
    "2. The distributions in the example are well separated in space. Modify the distribution size `amp` so that they overlap and observe the model's performance.\n",
    "3.  The model was tasked with finding a number of clusters that correspond to the generated distribution. What if the number of clusters given was larger or smaller? Explore the performance by changing `nc` to be different from the number of clusters in the generated distribution. How would you determine the optimal number of clusters? \n",
    "4. What is the cost function or performance measure for this model? What is another possible cost function that could be implemented?  How would the model's performance change?  \n",
    "5. This example involves a two-dimensional distribution. Modify the example to explore a three-dimensional distribution. "
>>>>>>> 80ce08593eb1a061375e67be47d386af5fc6a5b6
   ]
  },
  {
   "cell_type": "markdown",
   "id": "9fbce74b-f448-4d1f-9251-c8aecabd0e8f",
   "metadata": {},
   "source": [
    "# Applications in Heliophysics #"
   ]
  },
  {
   "cell_type": "markdown",
   "id": "4f4a10a1",
   "metadata": {},
   "source": [
    "### Where would clustering be usefule in Heliophysics?"
   ]
  },
  {
   "cell_type": "markdown",
   "id": "aa2026aa-5526-41d6-b73c-467d0186fb3d",
   "metadata": {},
   "source": [
    "One example involves solar wind data, where there are\n",
    "many variables and known \"clusters\" such as fast speed solar wind, slow solar wind, shocked plasma, and ICME (plasma inside a coronal mass ejection).  <a href=\"https://iopscience.iop.org/article/10.3847/1538-4357/ab5a7a/meta\"><i>Roberts et al. (2020)</i></a> applied this technique with solar wind data.  \n",
    "\n",
    "Because K-means only looks at linear distances between variables, the authors added supplemental variables such as ``cross-helicity`` and ``residual energy``.\n",
    "\n",
    "A major disadvantage of K-means is that it only organizes data based on its latent space. If there are separations that are clear in the way that the data are already organized, K-means can be an excellent way to approach this. One can also do some preliminary organization of data, such as deriving the variable Alfven speed. However, what if there are organizational properties that you're not aware of?"
   ]
  },
  {
   "cell_type": "markdown",
   "id": "31ed819e",
   "metadata": {},
   "source": [
    "### K-means Alternatives"
   ]
  },
  {
   "cell_type": "markdown",
   "id": "61179f08",
   "metadata": {},
   "source": [
    "Other clustering methods such as TSNE and UMAP allow deeper examination of organizational properties.  <a href=\"https://link.springer.com/article/10.1007/s11207-020-01609-z\"><i>Bloch et al. (2020)</i></a> performed a similar examination of solar wind data to <i>Roberts et al. (2020)</i>, using the UMAP model.  The <a href=\"https://helioml.org/10/Unsupervised_Classification_of_Solar_Wind_Source_Regions.html\">full <i>Bloch et al.</i> dataset and notebooks are available</a> from the <a href=\"https://helioml.org\">helioml.org</a> online textbook. The HelioML textbook has many other examples of heliophysics research projects using machine learning."
   ]
  },
  {
   "cell_type": "markdown",
   "id": "b1812f49-d067-4d38-b32d-122b24e2a190",
   "metadata": {},
   "source": [
    "# Acknowledgments: # \n",
    "E. Gizzi Ph.D.\n",
    "\n",
    "<a href=\"helioml.org\">HelioML</a> textbook"
   ]
  }
 ],
 "metadata": {
  "colab": {
   "provenance": []
  },
  "kernelspec": {
   "display_name": "Python 3",
   "language": "python",
   "name": "python3"
  },
  "language_info": {
   "codemirror_mode": {
    "name": "ipython",
    "version": 3
   },
   "file_extension": ".py",
   "mimetype": "text/x-python",
   "name": "python",
   "nbconvert_exporter": "python",
   "pygments_lexer": "ipython3",
<<<<<<< HEAD
   "version": "3.8.8"
=======
   "version": "3.11.8"
>>>>>>> 80ce08593eb1a061375e67be47d386af5fc6a5b6
  }
 },
 "nbformat": 4,
 "nbformat_minor": 5
}
