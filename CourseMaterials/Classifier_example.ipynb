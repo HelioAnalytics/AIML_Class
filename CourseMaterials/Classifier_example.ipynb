{
  "cells": [
    {
      "cell_type": "markdown",
      "metadata": {
        "id": "QySjkfwA1hKo"
      },
      "source": [
        "Here, we will use the <a href=\"http://yann.lecun.com/exdb/mnist/\">MNIST hand-written digit dataset</a> to train a classification model. This is a well-established, commonly used dataset consisting of training 60,000 images and 10,000 test images. \n",
        "\n",
        "We will build a perceptron, or neural network, to take images of a hand-written numbers and convert them to a digit.  This is an effective learning exercise because most people have experience trying to read sloppy handwriting; we will build on your intuition and experience to learn how the model works. \n",
        "\n",
        "We start again by loading required modules.  We will use Keras, a versatile user-friendly machine learning library (which is now part of TensorFlow).  "
      ]
    },
    {
      "cell_type": "code",
      "execution_count": null,
      "metadata": {
        "id": "e6iQql461uTv"
      },
      "outputs": [],
      "source": [
        "import numpy as np\n",
        "import tensorflow as tf\n",
        "import matplotlib.pyplot as plt\n",
        "from tensorflow.keras.datasets import mnist\n",
        "from tensorflow.keras.models import Sequential\n",
        "from tensorflow.keras.layers import Input, Dense, Dropout"
      ]
    },
    {
      "cell_type": "markdown",
      "metadata": {
        "id": "3cKEAQ-Q2D6K"
      },
      "source": [
        "In this case the three elements of the machine learning model are\n",
        "- Experience/Data/Input: A collection of 28x28 images of hand-written numbers between 0 and 9, with labels\n",
        "- Task: train the model to take an image of a hand-written number and return a label between 0 and 9\n",
        "- Performance/Cost function: We will start with a simple cost function, <i>mse</i>, which minimizes the mean squared error of images that are incorrectly labeled \n",
        "\n",
        "We load the MNIST dataset with the following code and print the shapes."
      ]
    },
    {
      "cell_type": "code",
      "execution_count": 2,
      "metadata": {
        "id": "zWD4KQxQ2EOW"
      },
      "outputs": [
        {
          "name": "stdout",
          "output_type": "stream",
          "text": [
            "x_train shape:  (60000, 28, 28)\n",
            "l_train shape:  (60000,)\n",
            "x_test shape:  (10000, 28, 28)\n",
            "l_test shape:  (10000,)\n"
          ]
        }
      ],
      "source": [
        "(x_train, l_train), (x_test, l_test) = mnist.load_data()\n",
        "print('x_train shape: ',x_train.shape)\n",
        "print('l_train shape: ',l_train.shape)\n",
        "print('x_test shape: ',x_test.shape)\n",
        "print('l_test shape: ',l_test.shape)"
      ]
    },
    {
      "cell_type": "code",
      "execution_count": 3,
      "metadata": {},
      "outputs": [
        {
          "name": "stdout",
          "output_type": "stream",
          "text": [
            "This image is a  3\n"
          ]
        },
        {
          "data": {
            "image/png": "[encoded data removed]",
            "text/plain": [
              "<Figure size 640x480 with 1 Axes>"
            ]
          },
          "metadata": {},
          "output_type": "display_data"
        }
      ],
      "source": [
        "index=30\n",
        "print('This image is a ',l_train[index])\n",
        "plt.imshow(x_train[index],cmap='binary_r');"
      ]
    },
    {
      "cell_type": "markdown",
      "metadata": {
        "id": "cShn-GZ-2Ebn"
      },
      "source": [
        "The `x` variables have shapes (28,28) which are the black-white pixels for the small images. There are 60,000 training and 10,000 test samples."
      ]
    },
    {
      "cell_type": "markdown",
      "metadata": {
        "id": "nDMFN6Ug3DTJ"
      },
      "source": [
        "Now, we will be dealing with another fully-connected model (using Dense layers). We must now reshape the (28,28) into (28*28) or (784)."
      ]
    },
    {
      "cell_type": "code",
      "execution_count": 4,
      "metadata": {
        "id": "B09nmswa2EjR"
      },
      "outputs": [],
      "source": [
        "x_train_new = x_train.reshape(x_train.shape[0],28*28)\n",
        "x_test_new = x_test.reshape(x_test.shape[0],28*28)"
      ]
    },
    {
      "cell_type": "markdown",
      "metadata": {
        "id": "B4KXFDX62ErG"
      },
      "source": [
        "Next, we will be doing something new. This is a different type of classification problem where we want to predict probability that an image is a 0, a 1, a 2, etc. So we are going to turn the outputs from integers (0-9) into a vector of length 10. If the number is 0, it becomes [1,0,0,0,0,0,0,0,0,0]. If the number is a 1, it becomes [0,1,0,0,0,0,0,0,0,0]. This continues up to 9. We can do this easily using TensorFlow's `to_categorical` function."
      ]
    },
    {
      "cell_type": "code",
      "execution_count": 5,
      "metadata": {
        "id": "lUOSUASZ2EyO"
      },
      "outputs": [
        {
          "ename": "TypeError",
          "evalue": "to_categorical() got an unexpected keyword argument 'dtype'",
          "output_type": "error",
          "traceback": [
            "\u001b[0;31m---------------------------------------------------------------------------\u001b[0m",
            "\u001b[0;31mTypeError\u001b[0m                                 Traceback (most recent call last)",
            "Cell \u001b[0;32mIn[5], line 1\u001b[0m\n\u001b[0;32m----> 1\u001b[0m l_train_new \u001b[38;5;241m=\u001b[39m \u001b[43mtf\u001b[49m\u001b[38;5;241;43m.\u001b[39;49m\u001b[43mkeras\u001b[49m\u001b[38;5;241;43m.\u001b[39;49m\u001b[43mutils\u001b[49m\u001b[38;5;241;43m.\u001b[39;49m\u001b[43mto_categorical\u001b[49m\u001b[43m(\u001b[49m\u001b[43ml_train\u001b[49m\u001b[43m,\u001b[49m\u001b[43m \u001b[49m\u001b[43mnum_classes\u001b[49m\u001b[38;5;241;43m=\u001b[39;49m\u001b[38;5;241;43m10\u001b[39;49m\u001b[43m,\u001b[49m\u001b[43m \u001b[49m\u001b[43mdtype\u001b[49m\u001b[38;5;241;43m=\u001b[39;49m\u001b[38;5;124;43m'\u001b[39;49m\u001b[38;5;124;43mfloat32\u001b[39;49m\u001b[38;5;124;43m'\u001b[39;49m\u001b[43m)\u001b[49m\n\u001b[1;32m      2\u001b[0m l_test_new \u001b[38;5;241m=\u001b[39m tf\u001b[38;5;241m.\u001b[39mkeras\u001b[38;5;241m.\u001b[39mutils\u001b[38;5;241m.\u001b[39mto_categorical(l_test, num_classes\u001b[38;5;241m=\u001b[39m\u001b[38;5;241m10\u001b[39m, dtype\u001b[38;5;241m=\u001b[39m\u001b[38;5;124m'\u001b[39m\u001b[38;5;124mfloat32\u001b[39m\u001b[38;5;124m'\u001b[39m)\n\u001b[1;32m      3\u001b[0m \u001b[38;5;28mprint\u001b[39m(l_train_new\u001b[38;5;241m.\u001b[39mshape)\n",
            "\u001b[0;31mTypeError\u001b[0m: to_categorical() got an unexpected keyword argument 'dtype'"
          ]
        }
      ],
      "source": [
        "l_train_new = tf.keras.utils.to_categorical(l_train, num_classes=10, dtype='float32')\n",
        "l_test_new = tf.keras.utils.to_categorical(l_test, num_classes=10, dtype='float32')\n",
        "print(l_train_new.shape)\n",
        "print(l_test_new.shape)"
      ]
    },
    {
      "cell_type": "markdown",
      "metadata": {
        "id": "W2n18TCh2E4Q"
      },
      "source": [
        "To see this in the data itself, we will look at the first training sample. Print the original label, then the categorical label, then plot the image. Note: we use the `binary_r` colormap which is a grayscale colormap with the lowest values being dark and the highest values being light."
      ]
    },
    {
      "cell_type": "code",
      "execution_count": null,
      "metadata": {
        "id": "bNF1i_8C2E-L"
      },
      "outputs": [],
      "source": [
        "print(l_train[0])\n",
        "print(l_train_new[0])\n",
        "plt.imshow(x_train_new[0].reshape(28,28),cmap='binary_r');"
      ]
    },
    {
      "cell_type": "markdown",
      "metadata": {
        "id": "kJJLsKmx2FEv"
      },
      "source": [
        "Now we are getting ready to develop our ML model. The last step in data preparation is to normalize our input data. Images have values that range from 0 to 255. Large numbers can cause issues with training since the weights are all initialized to be small. By dividing all values by 255, we get values between 0 and 1. Now, the weights will all be in the general ballpark of where they should be."
      ]
    },
    {
      "cell_type": "code",
      "execution_count": null,
      "metadata": {
        "id": "WgrvTYRR2FLC"
      },
      "outputs": [],
      "source": [
        "x_train_new = x_train_new / 255.\n",
        "x_test_new = x_test_new / 255."
      ]
    },
    {
      "cell_type": "markdown",
      "metadata": {
        "id": "5QJ03uto5WpW"
      },
      "source": [
        "We are defining our model as we did with the TensorFlow perceptron. This time, it is slightly more complicated. After the input layer, we have a layer with 256 neurons and a sigmoid activation function. Then we add dropout which helps prevent the model from overfitting to the training data. The rate is the percentage of neurons that are canceled every time the model is run (0.25 = 25%). The second layer has 64 neurons, sigmoid activation, and 10% dropout. The output layer has 10 neurons (for the 10 categories). The softmax activation function is used for classification outputs, because it normalizes the outputs to become probabilities. The sum of all softmax activations will be 1.0 for 100% probability of being one of the outputs."
      ]
    },
    {
      "cell_type": "code",
      "execution_count": null,
      "metadata": {
        "id": "VfmOHhfC5WyX"
      },
      "outputs": [],
      "source": [
        "model = Sequential()\n",
        "model.add(Input(shape=(x_train_new.shape[1],)))\n",
        "model.add(Dense(units=256,activation='sigmoid'))\n",
        "model.add(Dropout(rate=0.25))\n",
        "model.add(Dense(units=64,activation='sigmoid'))\n",
        "model.add(Dropout(rate=0.10))\n",
        "model.add(Dense(units=l_train_new.shape[1],activation='softmax'))\n",
        "model.compile(loss='mse',optimizer='sgd')\n",
        "model.summary()"
      ]
    },
    {
      "cell_type": "markdown",
      "metadata": {
        "id": "rhO1Ul1O5W5N"
      },
      "source": [
        "We fit the model to the data for 10 epochs with a larger batch size of 128. We also provide validation data to see how the model does on independent data during training."
      ]
    },
    {
      "cell_type": "code",
      "execution_count": null,
      "metadata": {
        "id": "XfcTL5lO5W_Y"
      },
      "outputs": [],
      "source": [
        "model.fit(x_train_new,l_train_new,epochs=10,batch_size=128,validation_data=(x_test_new,l_test_new),shuffle=True,verbose=1)"
      ]
    },
    {
      "cell_type": "markdown",
      "metadata": {
        "id": "ty_42eFK5XEg"
      },
      "source": [
        "With the trained model, we will predict for a random validation sample. Since the prediction will be 10 probabilities, we take the `argmax` or the location in the output with the highest probability to be its prediction. Notice that the model does not perform well. You can keep pressing play to see different predictions."
      ]
    },
    {
      "cell_type": "code",
      "execution_count": null,
      "metadata": {
        "id": "Q4Z8hMPA5XJ2"
      },
      "outputs": [],
      "source": [
        "index = np.random.randint(0,x_test_new.shape[0])\n",
        "pred = model.predict(x_test_new[index:index+1])\n",
        "pred_int = np.argmax(pred)\n",
        "print('Truth:',l_test[index],'Prediction:',pred_int,'(confidence=%.2f%%)'%(100*pred[0,pred_int]))\n",
        "plt.imshow(x_test_new[index].reshape(28,28),cmap='binary_r');"
      ]
    },
    {
      "cell_type": "markdown",
      "metadata": {
        "id": "kV4kGbvm5XQJ"
      },
      "source": [
        "A big issue with the previous model is that it does not have an appropriate loss function and optimizer. We were using the same one from the previous simple problem. However, our data is now 784-dimensional and there are 60,000 training images. This type of classification works better with a binary crossentropy loss function. Also we use a more advanced optimizer called Adam."
      ]
    },
    {
      "cell_type": "code",
      "execution_count": null,
      "metadata": {
        "id": "QthW8aPr5XVH"
      },
      "outputs": [],
      "source": [
        "model = Sequential()\n",
        "model.add(Input(shape=(x_train_new.shape[1],)))\n",
        "model.add(Dense(units=256,activation='sigmoid'))\n",
        "model.add(Dropout(rate=0.25))\n",
        "model.add(Dense(units=64,activation='relu'))\n",
        "model.add(Dropout(rate=0.10))\n",
        "model.add(Dense(units=l_train_new.shape[1],activation='softmax'))\n",
        "model.compile(loss='binary_crossentropy',optimizer='Adam')\n",
        "model.summary()"
      ]
    },
    {
      "cell_type": "markdown",
      "metadata": {
        "id": "c5AEJz3G5Xbn"
      },
      "source": [
        "We fit the model the same way we did previously."
      ]
    },
    {
      "cell_type": "code",
      "execution_count": null,
      "metadata": {
        "id": "O_ImlrcF5XhY"
      },
      "outputs": [],
      "source": [
        "model.fit(x_train_new,l_train_new,epochs=10,batch_size=128,validation_data=(x_test_new,l_test_new),shuffle=True,verbose=1)"
      ]
    },
    {
      "cell_type": "markdown",
      "metadata": {
        "id": "US4Q3tmyEIem"
      },
      "source": [
        "We can run the random predictions again to see how much more accurate and confident the model is."
      ]
    },
    {
      "cell_type": "code",
      "execution_count": null,
      "metadata": {
        "id": "WAk31UxmEIk6"
      },
      "outputs": [],
      "source": [
        "index = np.random.randint(0,x_test_new.shape[0])\n",
        "pred = model.predict(x_test_new[index:index+1])\n",
        "pred_int = np.argmax(pred)\n",
        "print('Truth:',l_test[index],'Prediction:',pred_int,'(confidence=%.2f%%)'%(100*pred[0,pred_int]))\n",
        "plt.imshow(x_test_new[index].reshape(28,28),cmap='binary_r');\n"
      ]
    },
    {
      "cell_type": "markdown",
      "metadata": {
        "id": "sDD7eID0EkOC"
      },
      "source": [
        "For fun, we will add a lot of noise to the image. The standard deviation is about 40%. You can see in the plots that many digits are tough for us to even tell but you may be surprised how well the model works here. Even so, it clearly does not perform as well as it did previously."
      ]
    },
    {
      "cell_type": "code",
      "execution_count": null,
      "metadata": {
        "id": "-Y8V8n4EEkWO"
      },
      "outputs": [],
      "source": [
        "index = np.random.randint(0,x_test_new.shape[0])\n",
        "input_clean = x_test_new[index:index+1]\n",
        "input_noisy = input_clean + np.random.normal(0,0.4,size=[input_clean.shape[1]])\n",
        "pred = model.predict(input_noisy)\n",
        "pred_int = np.argmax(pred)\n",
        "print('Truth:',l_test[index],'Prediction:',pred_int,'(confidence=%.2f%%)'%(100*pred[0,pred_int]))\n",
        "plt.imshow(input_noisy.reshape(28,28),cmap='binary_r',vmin=0,vmax=1);\n"
      ]
    },
    {
      "cell_type": "markdown",
      "metadata": {},
      "source": [
        "## Exploration"
      ]
    },
    {
      "cell_type": "markdown",
      "metadata": {},
      "source": [
        "- What are the hyperparameters in this exercise?  How do they affect performance? \n",
        "- Which are more correlated with speed, and which are more correlated with accuracy? \n",
        "\n",
        "Many of the numbers in this dataset are poorly written - even to the extent that two users may disagree on which number it is! \n",
        "- Would it be fair practice to remove the unclear characters from the set?  How would this improve performance?\n",
        "- How could you use the model's performance to determine which characters are unclear? \n",
        "- The numbers are scaled with white text on a black background. However, most examples of written text are on a white background. Why is the dataset prepared in this manner? \n",
        "- How would you adapt this specific model (28x28 images trained on a black background) for use in the \"real\" world? \n",
        "\n",
        "The dense simply connected perceptron model treats the connection between each pixel exactly the same. In reality, the values of neighboring pixels have more influence than distant pixels. **Convolutional neural networks (CNNs)** use a series of spatial filters to determine the weights of each layer. \n",
        "\n",
        "<a href=\"https://www.aanda.org/articles/aa/pdf/2018/06/aa31344-17.pdf\">*Baso & Ramos* (A&A, 615, A5, 2018)</a> use a CNN to enhance solar magnetic field images. A description of the method, and the code developed for this use, are available in the <a href=\"https://helioml.org/03/Enhancing_SDO_images.html\">Helio-ML online textbook</a>.\n",
        "\n",
        "Another common form of neural network that takes into account connections within neighboring data points is a Long-Short Term Memory (LSTM) network. LSTMs are commonly used on time series data, using past data to predict future behavior. \n",
        "\n",
        "<a href=\"https://www.frontiersin.org/articles/10.3389/fspas.2020.00054/full\">Argall et al. (Front. Astron. Space Sci., Vol. 7, 2020)</a> use an LSTM to detect magnetopause crossings by the Magnetospheric Multscale (MMS) mission. The full code, description and analysis are also available in the <a href=\"https://helioml.org/08/notebook.html\">Helio-ML online textbook</a>"
      ]
    },
    {
      "cell_type": "markdown",
      "metadata": {},
      "source": []
    }
  ],
  "metadata": {
    "colab": {
      "private_outputs": true,
      "provenance": []
    },
    "kernelspec": {
      "display_name": "Python 3",
      "name": "python3"
    },
    "language_info": {
      "codemirror_mode": {
        "name": "ipython",
        "version": 3
      },
      "file_extension": ".py",
      "mimetype": "text/x-python",
      "name": "python",
      "nbconvert_exporter": "python",
      "pygments_lexer": "ipython3",
      "version": "3.9.6"
    }
  },
  "nbformat": 4,
  "nbformat_minor": 0
}
